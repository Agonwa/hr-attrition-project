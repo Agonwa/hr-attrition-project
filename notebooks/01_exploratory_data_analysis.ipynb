{
 "cells": [
  {
   "cell_type": "code",
   "execution_count": 24,
   "id": "a0249a30-c445-4014-aacb-da483594b147",
   "metadata": {},
   "outputs": [
    {
     "data": {
      "text/html": [
       "<div>\n",
       "<style scoped>\n",
       "    .dataframe tbody tr th:only-of-type {\n",
       "        vertical-align: middle;\n",
       "    }\n",
       "\n",
       "    .dataframe tbody tr th {\n",
       "        vertical-align: top;\n",
       "    }\n",
       "\n",
       "    .dataframe thead th {\n",
       "        text-align: right;\n",
       "    }\n",
       "</style>\n",
       "<table border=\"1\" class=\"dataframe\">\n",
       "  <thead>\n",
       "    <tr style=\"text-align: right;\">\n",
       "      <th></th>\n",
       "      <th>Age</th>\n",
       "      <th>Attrition</th>\n",
       "      <th>BusinessTravel</th>\n",
       "      <th>DailyRate</th>\n",
       "      <th>Department</th>\n",
       "      <th>DistanceFromHome</th>\n",
       "      <th>Education</th>\n",
       "      <th>EducationField</th>\n",
       "      <th>EmployeeCount</th>\n",
       "      <th>EmployeeNumber</th>\n",
       "      <th>...</th>\n",
       "      <th>RelationshipSatisfaction</th>\n",
       "      <th>StandardHours</th>\n",
       "      <th>StockOptionLevel</th>\n",
       "      <th>TotalWorkingYears</th>\n",
       "      <th>TrainingTimesLastYear</th>\n",
       "      <th>WorkLifeBalance</th>\n",
       "      <th>YearsAtCompany</th>\n",
       "      <th>YearsInCurrentRole</th>\n",
       "      <th>YearsSinceLastPromotion</th>\n",
       "      <th>YearsWithCurrManager</th>\n",
       "    </tr>\n",
       "  </thead>\n",
       "  <tbody>\n",
       "    <tr>\n",
       "      <th>0</th>\n",
       "      <td>41</td>\n",
       "      <td>Yes</td>\n",
       "      <td>Travel_Rarely</td>\n",
       "      <td>1102</td>\n",
       "      <td>Sales</td>\n",
       "      <td>1</td>\n",
       "      <td>2</td>\n",
       "      <td>Life Sciences</td>\n",
       "      <td>1</td>\n",
       "      <td>1</td>\n",
       "      <td>...</td>\n",
       "      <td>1</td>\n",
       "      <td>80</td>\n",
       "      <td>0</td>\n",
       "      <td>8</td>\n",
       "      <td>0</td>\n",
       "      <td>1</td>\n",
       "      <td>6</td>\n",
       "      <td>4</td>\n",
       "      <td>0</td>\n",
       "      <td>5</td>\n",
       "    </tr>\n",
       "    <tr>\n",
       "      <th>1</th>\n",
       "      <td>49</td>\n",
       "      <td>No</td>\n",
       "      <td>Travel_Frequently</td>\n",
       "      <td>279</td>\n",
       "      <td>Research &amp; Development</td>\n",
       "      <td>8</td>\n",
       "      <td>1</td>\n",
       "      <td>Life Sciences</td>\n",
       "      <td>1</td>\n",
       "      <td>2</td>\n",
       "      <td>...</td>\n",
       "      <td>4</td>\n",
       "      <td>80</td>\n",
       "      <td>1</td>\n",
       "      <td>10</td>\n",
       "      <td>3</td>\n",
       "      <td>3</td>\n",
       "      <td>10</td>\n",
       "      <td>7</td>\n",
       "      <td>1</td>\n",
       "      <td>7</td>\n",
       "    </tr>\n",
       "    <tr>\n",
       "      <th>2</th>\n",
       "      <td>37</td>\n",
       "      <td>Yes</td>\n",
       "      <td>Travel_Rarely</td>\n",
       "      <td>1373</td>\n",
       "      <td>Research &amp; Development</td>\n",
       "      <td>2</td>\n",
       "      <td>2</td>\n",
       "      <td>Other</td>\n",
       "      <td>1</td>\n",
       "      <td>4</td>\n",
       "      <td>...</td>\n",
       "      <td>2</td>\n",
       "      <td>80</td>\n",
       "      <td>0</td>\n",
       "      <td>7</td>\n",
       "      <td>3</td>\n",
       "      <td>3</td>\n",
       "      <td>0</td>\n",
       "      <td>0</td>\n",
       "      <td>0</td>\n",
       "      <td>0</td>\n",
       "    </tr>\n",
       "    <tr>\n",
       "      <th>3</th>\n",
       "      <td>33</td>\n",
       "      <td>No</td>\n",
       "      <td>Travel_Frequently</td>\n",
       "      <td>1392</td>\n",
       "      <td>Research &amp; Development</td>\n",
       "      <td>3</td>\n",
       "      <td>4</td>\n",
       "      <td>Life Sciences</td>\n",
       "      <td>1</td>\n",
       "      <td>5</td>\n",
       "      <td>...</td>\n",
       "      <td>3</td>\n",
       "      <td>80</td>\n",
       "      <td>0</td>\n",
       "      <td>8</td>\n",
       "      <td>3</td>\n",
       "      <td>3</td>\n",
       "      <td>8</td>\n",
       "      <td>7</td>\n",
       "      <td>3</td>\n",
       "      <td>0</td>\n",
       "    </tr>\n",
       "    <tr>\n",
       "      <th>4</th>\n",
       "      <td>27</td>\n",
       "      <td>No</td>\n",
       "      <td>Travel_Rarely</td>\n",
       "      <td>591</td>\n",
       "      <td>Research &amp; Development</td>\n",
       "      <td>2</td>\n",
       "      <td>1</td>\n",
       "      <td>Medical</td>\n",
       "      <td>1</td>\n",
       "      <td>7</td>\n",
       "      <td>...</td>\n",
       "      <td>4</td>\n",
       "      <td>80</td>\n",
       "      <td>1</td>\n",
       "      <td>6</td>\n",
       "      <td>3</td>\n",
       "      <td>3</td>\n",
       "      <td>2</td>\n",
       "      <td>2</td>\n",
       "      <td>2</td>\n",
       "      <td>2</td>\n",
       "    </tr>\n",
       "  </tbody>\n",
       "</table>\n",
       "<p>5 rows × 35 columns</p>\n",
       "</div>"
      ],
      "text/plain": [
       "   Age Attrition     BusinessTravel  DailyRate              Department  \\\n",
       "0   41       Yes      Travel_Rarely       1102                   Sales   \n",
       "1   49        No  Travel_Frequently        279  Research & Development   \n",
       "2   37       Yes      Travel_Rarely       1373  Research & Development   \n",
       "3   33        No  Travel_Frequently       1392  Research & Development   \n",
       "4   27        No      Travel_Rarely        591  Research & Development   \n",
       "\n",
       "   DistanceFromHome  Education EducationField  EmployeeCount  EmployeeNumber  \\\n",
       "0                 1          2  Life Sciences              1               1   \n",
       "1                 8          1  Life Sciences              1               2   \n",
       "2                 2          2          Other              1               4   \n",
       "3                 3          4  Life Sciences              1               5   \n",
       "4                 2          1        Medical              1               7   \n",
       "\n",
       "   ...  RelationshipSatisfaction StandardHours  StockOptionLevel  \\\n",
       "0  ...                         1            80                 0   \n",
       "1  ...                         4            80                 1   \n",
       "2  ...                         2            80                 0   \n",
       "3  ...                         3            80                 0   \n",
       "4  ...                         4            80                 1   \n",
       "\n",
       "   TotalWorkingYears  TrainingTimesLastYear WorkLifeBalance  YearsAtCompany  \\\n",
       "0                  8                      0               1               6   \n",
       "1                 10                      3               3              10   \n",
       "2                  7                      3               3               0   \n",
       "3                  8                      3               3               8   \n",
       "4                  6                      3               3               2   \n",
       "\n",
       "  YearsInCurrentRole  YearsSinceLastPromotion  YearsWithCurrManager  \n",
       "0                  4                        0                     5  \n",
       "1                  7                        1                     7  \n",
       "2                  0                        0                     0  \n",
       "3                  7                        3                     0  \n",
       "4                  2                        2                     2  \n",
       "\n",
       "[5 rows x 35 columns]"
      ]
     },
     "execution_count": 24,
     "metadata": {},
     "output_type": "execute_result"
    }
   ],
   "source": [
    "# Import essential libraries\n",
    "import pandas as pd\n",
    "import matplotlib.pyplot as plt\n",
    "import seaborn as sns\n",
    "import warnings\n",
    "warnings.simplefilter(\"ignore\", FutureWarning)\n",
    "\n",
    "\n",
    "df = pd.read_csv(\"C:/Users/HP/Desktop/HR ATTRITION PROJECT/data/WA_Fn-UseC_-HR-Employee-Attrition.csv\")\n",
    "\n",
    "# Quick overview of the dataset\n",
    "df.head()"
   ]
  },
  {
   "cell_type": "markdown",
   "id": "c6c59dbd-8743-4518-bdbb-7383621746b9",
   "metadata": {},
   "source": [
    "# USE CASE 1\n",
    "### Which Department Has the Highest Attrition Rate?"
   ]
  },
  {
   "cell_type": "code",
   "execution_count": 36,
   "id": "aaf1b714-a4e3-43ba-ae7b-eb535fa5e7f4",
   "metadata": {},
   "outputs": [],
   "source": [
    "# Convert Attrition to binary: Yes = 1, No = 0 in order to use .mean()\n",
    "df[\"Attrition\"] = df[\"Attrition\"].map({\"Yes\": 1, \"No\": 0})"
   ]
  },
  {
   "cell_type": "code",
   "execution_count": 21,
   "id": "95cfe029-f8f2-4230-9235-00e6376dde5e",
   "metadata": {},
   "outputs": [],
   "source": [
    "# Group by Department and calculate attrition rate\n",
    "department_attrition = df.groupby(\"Department\")[\"Attrition\"].mean().sort_values(ascending=False).reset_index()"
   ]
  },
  {
   "cell_type": "code",
   "execution_count": 22,
   "id": "c7466480-74da-4b41-b5f3-109fcc08e249",
   "metadata": {},
   "outputs": [
    {
     "data": {
      "text/html": [
       "<div>\n",
       "<style scoped>\n",
       "    .dataframe tbody tr th:only-of-type {\n",
       "        vertical-align: middle;\n",
       "    }\n",
       "\n",
       "    .dataframe tbody tr th {\n",
       "        vertical-align: top;\n",
       "    }\n",
       "\n",
       "    .dataframe thead th {\n",
       "        text-align: right;\n",
       "    }\n",
       "</style>\n",
       "<table border=\"1\" class=\"dataframe\">\n",
       "  <thead>\n",
       "    <tr style=\"text-align: right;\">\n",
       "      <th></th>\n",
       "      <th>Department</th>\n",
       "      <th>Attrition</th>\n",
       "    </tr>\n",
       "  </thead>\n",
       "  <tbody>\n",
       "    <tr>\n",
       "      <th>0</th>\n",
       "      <td>Sales</td>\n",
       "      <td>0.206278</td>\n",
       "    </tr>\n",
       "    <tr>\n",
       "      <th>1</th>\n",
       "      <td>Human Resources</td>\n",
       "      <td>0.190476</td>\n",
       "    </tr>\n",
       "    <tr>\n",
       "      <th>2</th>\n",
       "      <td>Research &amp; Development</td>\n",
       "      <td>0.138398</td>\n",
       "    </tr>\n",
       "  </tbody>\n",
       "</table>\n",
       "</div>"
      ],
      "text/plain": [
       "               Department  Attrition\n",
       "0                   Sales   0.206278\n",
       "1         Human Resources   0.190476\n",
       "2  Research & Development   0.138398"
      ]
     },
     "execution_count": 22,
     "metadata": {},
     "output_type": "execute_result"
    }
   ],
   "source": [
    "department_attrition"
   ]
  },
  {
   "cell_type": "code",
   "execution_count": 35,
   "id": "f6ada621-2e35-49b1-b8da-ed4c7c5f2b45",
   "metadata": {},
   "outputs": [
    {
     "data": {
      "image/png": "[encoded data removed]",
      "text/plain": [
       "<Figure size 800x500 with 1 Axes>"
      ]
     },
     "metadata": {},
     "output_type": "display_data"
    }
   ],
   "source": [
    "# Plot with Department on x-axis\n",
    "plt.figure(figsize=(8, 5))\n",
    "sns.barplot(data=department_attrition, x=\"Department\", y=\"Attrition\", palette=\"viridis\")\n",
    "\n",
    "plt.title(\"Attrition Rate by Department\", fontsize=14)\n",
    "plt.xlabel(\"Department\")\n",
    "plt.ylabel(\"Attrition Rate\")\n",
    "plt.ylim(0, 1)\n",
    "plt.tight_layout()\n",
    "plt.show()"
   ]
  },
  {
   "cell_type": "markdown",
   "id": "b7a80694-6a61-4bdd-aaec-ffc98d18d24a",
   "metadata": {},
   "source": [
    "### 📊 Insight: Department with the Highest Attrition Rate\n",
    "\n",
    "After analyzing the attrition rates across departments, I found:\n",
    "\n",
    "- The **Sales** department has the **highest attrition rate** (about 20.6%).\n",
    "- **Human Resources** follows closely with an attrition rate of about 19%.\n",
    "- The **Research & Development** department has the **lowest attrition rate** (about 13.8%).\n",
    "\n",
    "📌 **Conclusion**: The Sales department has the highest number of employees leaving the company. This may be due to work pressure, job dissatisfaction, or other role-related challenges, and it might need closer attention to improve employee retention.\n"
   ]
  },
  {
   "cell_type": "markdown",
   "id": "3e467cf6-3578-4440-96ac-445a12974247",
   "metadata": {},
   "source": [
    "# USE CASE 2\n",
    "### Is there a strong relationship between job satisfaction and attrition?\n"
   ]
  },
  {
   "cell_type": "code",
   "execution_count": 43,
   "id": "100a4959-d82a-4f5c-a120-44eb4d8ade6e",
   "metadata": {},
   "outputs": [],
   "source": [
    "df[\"JobSatisfaction\"] = df[\"JobSatisfaction\"].map({1: \"Low\", 2: \"Medium\", 3: \"High\", 4: \"Very High\"})\n"
   ]
  },
  {
   "cell_type": "code",
   "execution_count": 46,
   "id": "d0b3734c-6134-47a2-a784-5d7492d579e7",
   "metadata": {},
   "outputs": [],
   "source": [
    "# Convert to ordered categorical for correct bar order\n",
    "df[\"JobSatisfaction\"] = pd.Categorical(\n",
    "    df[\"JobSatisfaction\"],\n",
    "    categories=[\"Low\", \"Medium\", \"High\", \"Very High\"],\n",
    "    ordered=True\n",
    ")"
   ]
  },
  {
   "cell_type": "code",
   "execution_count": 47,
   "id": "d29cc29f-6463-490f-89c4-f76e675445cf",
   "metadata": {},
   "outputs": [],
   "source": [
    "# Group by JobSatisfaction and calculate mean Attrition\n",
    "job_sat_attrition = df.groupby(\"JobSatisfaction\")[\"Attrition\"].mean().reset_index()"
   ]
  },
  {
   "cell_type": "code",
   "execution_count": 48,
   "id": "7efe5d6e-571a-4370-a577-7c1efa3da99d",
   "metadata": {},
   "outputs": [
    {
     "data": {
      "text/html": [
       "<div>\n",
       "<style scoped>\n",
       "    .dataframe tbody tr th:only-of-type {\n",
       "        vertical-align: middle;\n",
       "    }\n",
       "\n",
       "    .dataframe tbody tr th {\n",
       "        vertical-align: top;\n",
       "    }\n",
       "\n",
       "    .dataframe thead th {\n",
       "        text-align: right;\n",
       "    }\n",
       "</style>\n",
       "<table border=\"1\" class=\"dataframe\">\n",
       "  <thead>\n",
       "    <tr style=\"text-align: right;\">\n",
       "      <th></th>\n",
       "      <th>JobSatisfaction</th>\n",
       "      <th>Attrition</th>\n",
       "    </tr>\n",
       "  </thead>\n",
       "  <tbody>\n",
       "    <tr>\n",
       "      <th>0</th>\n",
       "      <td>Low</td>\n",
       "      <td>0.228374</td>\n",
       "    </tr>\n",
       "    <tr>\n",
       "      <th>1</th>\n",
       "      <td>Medium</td>\n",
       "      <td>0.164286</td>\n",
       "    </tr>\n",
       "    <tr>\n",
       "      <th>2</th>\n",
       "      <td>High</td>\n",
       "      <td>0.165158</td>\n",
       "    </tr>\n",
       "    <tr>\n",
       "      <th>3</th>\n",
       "      <td>Very High</td>\n",
       "      <td>0.113290</td>\n",
       "    </tr>\n",
       "  </tbody>\n",
       "</table>\n",
       "</div>"
      ],
      "text/plain": [
       "  JobSatisfaction  Attrition\n",
       "0             Low   0.228374\n",
       "1          Medium   0.164286\n",
       "2            High   0.165158\n",
       "3       Very High   0.113290"
      ]
     },
     "execution_count": 48,
     "metadata": {},
     "output_type": "execute_result"
    }
   ],
   "source": [
    "job_sat_attrition"
   ]
  },
  {
   "cell_type": "code",
   "execution_count": 49,
   "id": "361c8909-06ae-4d6a-8aa4-339bed52e5e9",
   "metadata": {},
   "outputs": [
    {
     "data": {
      "image/png": "[encoded data removed]",
      "text/plain": [
       "<Figure size 800x500 with 1 Axes>"
      ]
     },
     "metadata": {},
     "output_type": "display_data"
    }
   ],
   "source": [
    "# Plot\n",
    "plt.figure(figsize=(8, 5))\n",
    "sns.barplot(data=job_sat_attrition, x=\"JobSatisfaction\", y=\"Attrition\", palette=\"coolwarm\")\n",
    "\n",
    "plt.title(\"Attrition Rate by Job Satisfaction Level\", fontsize=14)\n",
    "plt.xlabel(\"Job Satisfaction Level\", fontsize=12)\n",
    "plt.ylabel(\"Attrition Rate\", fontsize=12)\n",
    "plt.ylim(0, 1)\n",
    "plt.grid(axis='y', linestyle='--', alpha=0.7)\n",
    "plt.tight_layout()\n",
    "plt.show()\n"
   ]
  },
  {
   "cell_type": "markdown",
   "id": "a086e1ee-6125-4183-9de9-663b665c8a82",
   "metadata": {},
   "source": [
    "### 🔍 Insight: Job Satisfaction & Attrition\n",
    "\n",
    "My analysis shows a clear trend:\n",
    "\n",
    "- Employees with **Low** job satisfaction have the **highest attrition rate**.\n",
    "- Those with **Very High** satisfaction have the **lowest attrition rate**.\n",
    "\n",
    "📌 **Conclusion**: There is a strong negative relationship between job satisfaction and attrition. Boosting satisfaction may significantly reduce employee turnover.\n"
   ]
  },
  {
   "cell_type": "markdown",
   "id": "f747abd2-3bfe-4050-90db-522270e197a2",
   "metadata": {},
   "source": [
    "# USE CASE 3\n",
    "### Does Overtime or work-life balance correlate with attrition?\n"
   ]
  },
  {
   "cell_type": "markdown",
   "id": "49572a4a-ec30-4aa4-b4de-9322e7d40150",
   "metadata": {},
   "source": [
    "#### Overtime vs Attrition"
   ]
  },
  {
   "cell_type": "code",
   "execution_count": 50,
   "id": "cdb6a999-506d-4115-8dab-7d7ecee4ddff",
   "metadata": {},
   "outputs": [],
   "source": [
    "# Grouping and calculating mean attrition for Overtime\n",
    "overtime_attrition = df.groupby(\"OverTime\")[\"Attrition\"].mean().reset_index()"
   ]
  },
  {
   "cell_type": "code",
   "execution_count": 51,
   "id": "954e65cb-5d53-4807-b6bb-6d642bcbee0d",
   "metadata": {},
   "outputs": [
    {
     "data": {
      "text/html": [
       "<div>\n",
       "<style scoped>\n",
       "    .dataframe tbody tr th:only-of-type {\n",
       "        vertical-align: middle;\n",
       "    }\n",
       "\n",
       "    .dataframe tbody tr th {\n",
       "        vertical-align: top;\n",
       "    }\n",
       "\n",
       "    .dataframe thead th {\n",
       "        text-align: right;\n",
       "    }\n",
       "</style>\n",
       "<table border=\"1\" class=\"dataframe\">\n",
       "  <thead>\n",
       "    <tr style=\"text-align: right;\">\n",
       "      <th></th>\n",
       "      <th>OverTime</th>\n",
       "      <th>Attrition</th>\n",
       "    </tr>\n",
       "  </thead>\n",
       "  <tbody>\n",
       "    <tr>\n",
       "      <th>0</th>\n",
       "      <td>No</td>\n",
       "      <td>0.104364</td>\n",
       "    </tr>\n",
       "    <tr>\n",
       "      <th>1</th>\n",
       "      <td>Yes</td>\n",
       "      <td>0.305288</td>\n",
       "    </tr>\n",
       "  </tbody>\n",
       "</table>\n",
       "</div>"
      ],
      "text/plain": [
       "  OverTime  Attrition\n",
       "0       No   0.104364\n",
       "1      Yes   0.305288"
      ]
     },
     "execution_count": 51,
     "metadata": {},
     "output_type": "execute_result"
    }
   ],
   "source": [
    "overtime_attrition"
   ]
  },
  {
   "cell_type": "code",
   "execution_count": 52,
   "id": "9ee43098-3886-48ab-81a5-582ac1df6528",
   "metadata": {},
   "outputs": [
    {
     "data": {
      "image/png": "[encoded data removed]",
      "text/plain": [
       "<Figure size 600x400 with 1 Axes>"
      ]
     },
     "metadata": {},
     "output_type": "display_data"
    }
   ],
   "source": [
    "# Plotting\n",
    "plt.figure(figsize=(6, 4))\n",
    "sns.barplot(data=overtime_attrition, x=\"OverTime\", y=\"Attrition\", palette=\"magma\")\n",
    "plt.title(\"Attrition Rate by Overtime\")\n",
    "plt.ylabel(\"Attrition Rate\")\n",
    "plt.xlabel(\"Overtime Status\")\n",
    "plt.ylim(0, 0.5)\n",
    "plt.show()"
   ]
  },
  {
   "cell_type": "markdown",
   "id": "611e981e-395a-42d3-be2f-721c9d75d2ef",
   "metadata": {},
   "source": [
    "### 📌 Insight on Overtime and Attrition\n",
    "There is a strong correlation between overtime and employee attrition.\n",
    "Employees who work overtime have an attrition rate of 30.5%, while those who do not work overtime have a much lower rate of 10.4%.\n",
    "This clearly suggests that working overtime is associated with a higher likelihood of leaving the company."
   ]
  },
  {
   "cell_type": "markdown",
   "id": "810dd88c-edf3-4c6b-a983-3ec898bafb91",
   "metadata": {},
   "source": [
    "#### Work-Life Balance vs Attrition"
   ]
  },
  {
   "cell_type": "code",
   "execution_count": 53,
   "id": "a73502e0-765d-4cd4-8eb5-fdc2f8a77c86",
   "metadata": {},
   "outputs": [],
   "source": [
    "df[\"WorkLifeBalance\"] = df[\"WorkLifeBalance\"].map({\n",
    "    1: \"Bad\", 2: \"Good\", 3: \"Better\", 4: \"Best\"\n",
    "})"
   ]
  },
  {
   "cell_type": "code",
   "execution_count": 57,
   "id": "88297ca9-da31-4fe1-9696-43fb93eef732",
   "metadata": {},
   "outputs": [],
   "source": [
    "# Set category order\n",
    "df[\"WorkLifeBalance\"] = pd.Categorical(\n",
    "    df[\"WorkLifeBalance\"],\n",
    "    categories=[\"Bad\", \"Good\", \"Better\", \"Best\"],\n",
    "    ordered=True\n",
    ")"
   ]
  },
  {
   "cell_type": "code",
   "execution_count": 58,
   "id": "9c9eefe8-eff2-4052-a628-8fe5e17a031f",
   "metadata": {},
   "outputs": [],
   "source": [
    "wlb_attrition = df.groupby(\"WorkLifeBalance\")[\"Attrition\"].mean().reset_index()"
   ]
  },
  {
   "cell_type": "code",
   "execution_count": 59,
   "id": "d562f0c4-a55f-476a-85b6-14a49b20e5c7",
   "metadata": {},
   "outputs": [
    {
     "data": {
      "text/html": [
       "<div>\n",
       "<style scoped>\n",
       "    .dataframe tbody tr th:only-of-type {\n",
       "        vertical-align: middle;\n",
       "    }\n",
       "\n",
       "    .dataframe tbody tr th {\n",
       "        vertical-align: top;\n",
       "    }\n",
       "\n",
       "    .dataframe thead th {\n",
       "        text-align: right;\n",
       "    }\n",
       "</style>\n",
       "<table border=\"1\" class=\"dataframe\">\n",
       "  <thead>\n",
       "    <tr style=\"text-align: right;\">\n",
       "      <th></th>\n",
       "      <th>WorkLifeBalance</th>\n",
       "      <th>Attrition</th>\n",
       "    </tr>\n",
       "  </thead>\n",
       "  <tbody>\n",
       "    <tr>\n",
       "      <th>0</th>\n",
       "      <td>Bad</td>\n",
       "      <td>0.312500</td>\n",
       "    </tr>\n",
       "    <tr>\n",
       "      <th>1</th>\n",
       "      <td>Good</td>\n",
       "      <td>0.168605</td>\n",
       "    </tr>\n",
       "    <tr>\n",
       "      <th>2</th>\n",
       "      <td>Better</td>\n",
       "      <td>0.142217</td>\n",
       "    </tr>\n",
       "    <tr>\n",
       "      <th>3</th>\n",
       "      <td>Best</td>\n",
       "      <td>0.176471</td>\n",
       "    </tr>\n",
       "  </tbody>\n",
       "</table>\n",
       "</div>"
      ],
      "text/plain": [
       "  WorkLifeBalance  Attrition\n",
       "0             Bad   0.312500\n",
       "1            Good   0.168605\n",
       "2          Better   0.142217\n",
       "3            Best   0.176471"
      ]
     },
     "execution_count": 59,
     "metadata": {},
     "output_type": "execute_result"
    }
   ],
   "source": [
    "wlb_attrition"
   ]
  },
  {
   "cell_type": "code",
   "execution_count": 60,
   "id": "13bac841-eb93-43be-8146-359347bd5a04",
   "metadata": {},
   "outputs": [
    {
     "data": {
      "image/png": "[encoded data removed]",
      "text/plain": [
       "<Figure size 600x400 with 1 Axes>"
      ]
     },
     "metadata": {},
     "output_type": "display_data"
    }
   ],
   "source": [
    "plt.figure(figsize=(6, 4))\n",
    "sns.barplot(data=wlb_attrition, x=\"WorkLifeBalance\", y=\"Attrition\", palette=\"coolwarm\")\n",
    "plt.title(\"Attrition Rate by Work-Life Balance\")\n",
    "plt.ylabel(\"Attrition Rate\")\n",
    "plt.xlabel(\"Work-Life Balance\")\n",
    "plt.ylim(0, 0.5)\n",
    "plt.show()\n"
   ]
  },
  {
   "cell_type": "markdown",
   "id": "8ca58809-854a-4f99-98a9-f43238787bfd",
   "metadata": {},
   "source": [
    "### 📌 Insight on Work-Life Balance and Attrition\n",
    "The data also shows a relationship between work-life balance and attrition.\n",
    "Employees who rated their work-life balance as \"Bad\" have the highest attrition rate at 31.3%, compared to lower rates among those with \"Good\", \"Better\", or \"Best\" ratings (ranging from 14% to 17%).\n",
    "This indicates that employees with poor work-life balance are more likely to leave, reinforcing the importance of a healthy work environment."
   ]
  },
  {
   "cell_type": "markdown",
   "id": "489c5054-7ac0-4641-b64d-a54fbd8e4ef3",
   "metadata": {},
   "source": [
    "# USE CASE 4\n",
    "### Are certain roles, age groups, or salary bands more at risk?"
   ]
  },
  {
   "cell_type": "markdown",
   "id": "1375b1db-2625-46de-b6c4-3a85a37080ef",
   "metadata": {},
   "source": [
    "#### Job Role vs. Attrition"
   ]
  },
  {
   "cell_type": "code",
   "execution_count": 61,
   "id": "71e4a36c-c10e-4d4a-a0b6-2411b1f05baa",
   "metadata": {},
   "outputs": [],
   "source": [
    "# Attrition by Job Role\n",
    "job_role_attrition = df.groupby(\"JobRole\")[\"Attrition\"].mean().sort_values(ascending=False).reset_index()"
   ]
  },
  {
   "cell_type": "code",
   "execution_count": 62,
   "id": "2638abb8-2668-4ac1-8707-d2b7f3908f40",
   "metadata": {},
   "outputs": [
    {
     "data": {
      "text/html": [
       "<div>\n",
       "<style scoped>\n",
       "    .dataframe tbody tr th:only-of-type {\n",
       "        vertical-align: middle;\n",
       "    }\n",
       "\n",
       "    .dataframe tbody tr th {\n",
       "        vertical-align: top;\n",
       "    }\n",
       "\n",
       "    .dataframe thead th {\n",
       "        text-align: right;\n",
       "    }\n",
       "</style>\n",
       "<table border=\"1\" class=\"dataframe\">\n",
       "  <thead>\n",
       "    <tr style=\"text-align: right;\">\n",
       "      <th></th>\n",
       "      <th>JobRole</th>\n",
       "      <th>Attrition</th>\n",
       "    </tr>\n",
       "  </thead>\n",
       "  <tbody>\n",
       "    <tr>\n",
       "      <th>0</th>\n",
       "      <td>Sales Representative</td>\n",
       "      <td>0.397590</td>\n",
       "    </tr>\n",
       "    <tr>\n",
       "      <th>1</th>\n",
       "      <td>Laboratory Technician</td>\n",
       "      <td>0.239382</td>\n",
       "    </tr>\n",
       "    <tr>\n",
       "      <th>2</th>\n",
       "      <td>Human Resources</td>\n",
       "      <td>0.230769</td>\n",
       "    </tr>\n",
       "    <tr>\n",
       "      <th>3</th>\n",
       "      <td>Sales Executive</td>\n",
       "      <td>0.174847</td>\n",
       "    </tr>\n",
       "    <tr>\n",
       "      <th>4</th>\n",
       "      <td>Research Scientist</td>\n",
       "      <td>0.160959</td>\n",
       "    </tr>\n",
       "    <tr>\n",
       "      <th>5</th>\n",
       "      <td>Manufacturing Director</td>\n",
       "      <td>0.068966</td>\n",
       "    </tr>\n",
       "    <tr>\n",
       "      <th>6</th>\n",
       "      <td>Healthcare Representative</td>\n",
       "      <td>0.068702</td>\n",
       "    </tr>\n",
       "    <tr>\n",
       "      <th>7</th>\n",
       "      <td>Manager</td>\n",
       "      <td>0.049020</td>\n",
       "    </tr>\n",
       "    <tr>\n",
       "      <th>8</th>\n",
       "      <td>Research Director</td>\n",
       "      <td>0.025000</td>\n",
       "    </tr>\n",
       "  </tbody>\n",
       "</table>\n",
       "</div>"
      ],
      "text/plain": [
       "                     JobRole  Attrition\n",
       "0       Sales Representative   0.397590\n",
       "1      Laboratory Technician   0.239382\n",
       "2            Human Resources   0.230769\n",
       "3            Sales Executive   0.174847\n",
       "4         Research Scientist   0.160959\n",
       "5     Manufacturing Director   0.068966\n",
       "6  Healthcare Representative   0.068702\n",
       "7                    Manager   0.049020\n",
       "8          Research Director   0.025000"
      ]
     },
     "execution_count": 62,
     "metadata": {},
     "output_type": "execute_result"
    }
   ],
   "source": [
    "job_role_attrition"
   ]
  },
  {
   "cell_type": "code",
   "execution_count": 66,
   "id": "9638a3b3-959b-47c2-ad52-fd2caf9dbd14",
   "metadata": {},
   "outputs": [
    {
     "data": {
      "image/png": "[encoded data removed]",
      "text/plain": [
       "<Figure size 1200x600 with 1 Axes>"
      ]
     },
     "metadata": {},
     "output_type": "display_data"
    }
   ],
   "source": [
    "# Plot\n",
    "plt.figure(figsize=(12,6))\n",
    "sns.barplot(data=job_role_attrition, x=\"JobRole\", y=\"Attrition\", palette=\"mako\")\n",
    "plt.title(\"Attrition Rate by Job Role\")\n",
    "plt.xlabel(\"Job Role\")\n",
    "plt.ylabel(\"Attrition Rate\")\n",
    "plt.xticks(rotation=45)\n",
    "plt.ylim(0, 0.5)\n",
    "plt.tight_layout()\n",
    "plt.show()"
   ]
  },
  {
   "cell_type": "markdown",
   "id": "5191fdc3-e206-4bd0-90cf-807a1dbe810f",
   "metadata": {},
   "source": [
    "#### Age Group vs. Attrition"
   ]
  },
  {
   "cell_type": "code",
   "execution_count": 72,
   "id": "79876b44-7848-4a16-9900-420c88da63b3",
   "metadata": {},
   "outputs": [
    {
     "data": {
      "text/plain": [
       "count    1470.000000\n",
       "mean       36.923810\n",
       "std         9.135373\n",
       "min        18.000000\n",
       "25%        30.000000\n",
       "50%        36.000000\n",
       "75%        43.000000\n",
       "max        60.000000\n",
       "Name: Age, dtype: float64"
      ]
     },
     "execution_count": 72,
     "metadata": {},
     "output_type": "execute_result"
    }
   ],
   "source": [
    "# let's know the min and max age in the dataset\n",
    "df[\"Age\"].describe()"
   ]
  },
  {
   "cell_type": "code",
   "execution_count": 67,
   "id": "ba631ff9-35a6-4de2-ae2f-b068138a82cb",
   "metadata": {},
   "outputs": [],
   "source": [
    "# Create Age Groups\n",
    "df[\"AgeGroup\"] = pd.cut(df[\"Age\"], bins=[17, 25, 35, 45, 60], labels=[\"18-25\", \"26-35\", \"36-45\", \"46-60\"])"
   ]
  },
  {
   "cell_type": "code",
   "execution_count": 68,
   "id": "ad7dd248-4e28-49e8-bc21-1cd33d44fc24",
   "metadata": {},
   "outputs": [],
   "source": [
    "# Attrition by Age Group\n",
    "age_group_attrition = df.groupby(\"AgeGroup\")[\"Attrition\"].mean().reset_index()"
   ]
  },
  {
   "cell_type": "code",
   "execution_count": 69,
   "id": "a76e2319-e37c-4694-9bb5-9649338446a9",
   "metadata": {},
   "outputs": [
    {
     "data": {
      "text/html": [
       "<div>\n",
       "<style scoped>\n",
       "    .dataframe tbody tr th:only-of-type {\n",
       "        vertical-align: middle;\n",
       "    }\n",
       "\n",
       "    .dataframe tbody tr th {\n",
       "        vertical-align: top;\n",
       "    }\n",
       "\n",
       "    .dataframe thead th {\n",
       "        text-align: right;\n",
       "    }\n",
       "</style>\n",
       "<table border=\"1\" class=\"dataframe\">\n",
       "  <thead>\n",
       "    <tr style=\"text-align: right;\">\n",
       "      <th></th>\n",
       "      <th>AgeGroup</th>\n",
       "      <th>Attrition</th>\n",
       "    </tr>\n",
       "  </thead>\n",
       "  <tbody>\n",
       "    <tr>\n",
       "      <th>0</th>\n",
       "      <td>18-25</td>\n",
       "      <td>0.357724</td>\n",
       "    </tr>\n",
       "    <tr>\n",
       "      <th>1</th>\n",
       "      <td>26-35</td>\n",
       "      <td>0.191419</td>\n",
       "    </tr>\n",
       "    <tr>\n",
       "      <th>2</th>\n",
       "      <td>36-45</td>\n",
       "      <td>0.091880</td>\n",
       "    </tr>\n",
       "    <tr>\n",
       "      <th>3</th>\n",
       "      <td>46-60</td>\n",
       "      <td>0.124542</td>\n",
       "    </tr>\n",
       "  </tbody>\n",
       "</table>\n",
       "</div>"
      ],
      "text/plain": [
       "  AgeGroup  Attrition\n",
       "0    18-25   0.357724\n",
       "1    26-35   0.191419\n",
       "2    36-45   0.091880\n",
       "3    46-60   0.124542"
      ]
     },
     "execution_count": 69,
     "metadata": {},
     "output_type": "execute_result"
    }
   ],
   "source": [
    "age_group_attrition"
   ]
  },
  {
   "cell_type": "code",
   "execution_count": 70,
   "id": "7cd9ca24-d106-465a-a743-ab4c77ab905a",
   "metadata": {},
   "outputs": [
    {
     "data": {
      "image/png": "[encoded data removed]",
      "text/plain": [
       "<Figure size 800x500 with 1 Axes>"
      ]
     },
     "metadata": {},
     "output_type": "display_data"
    }
   ],
   "source": [
    "# Plot\n",
    "plt.figure(figsize=(8,5))\n",
    "sns.barplot(data=age_group_attrition, x=\"AgeGroup\", y=\"Attrition\", palette=\"flare\")\n",
    "plt.title(\"Attrition Rate by Age Group\")\n",
    "plt.ylabel(\"Attrition Rate\")\n",
    "plt.xlabel(\"Age Group\")\n",
    "plt.ylim(0, 0.5)\n",
    "plt.tight_layout()\n",
    "plt.show()"
   ]
  },
  {
   "cell_type": "markdown",
   "id": "f421ac49-fa37-4966-b0e9-5a3d2d635ceb",
   "metadata": {},
   "source": [
    "#### Salary Bands"
   ]
  },
  {
   "cell_type": "code",
   "execution_count": 73,
   "id": "04184fbf-ca9f-4efc-87c9-2f0918fd02ae",
   "metadata": {},
   "outputs": [],
   "source": [
    "# Create salary bands using quantiles\n",
    "df[\"SalaryBand\"] = pd.qcut(df[\"MonthlyIncome\"], q=4, labels=[\"Low\", \"Medium\", \"High\", \"Very High\"])\n"
   ]
  },
  {
   "cell_type": "code",
   "execution_count": 77,
   "id": "6fe4e0bf-1fb9-4a4d-aa4c-502d142635c7",
   "metadata": {},
   "outputs": [
    {
     "data": {
      "text/html": [
       "<div>\n",
       "<style scoped>\n",
       "    .dataframe tbody tr th:only-of-type {\n",
       "        vertical-align: middle;\n",
       "    }\n",
       "\n",
       "    .dataframe tbody tr th {\n",
       "        vertical-align: top;\n",
       "    }\n",
       "\n",
       "    .dataframe thead th {\n",
       "        text-align: right;\n",
       "    }\n",
       "</style>\n",
       "<table border=\"1\" class=\"dataframe\">\n",
       "  <thead>\n",
       "    <tr style=\"text-align: right;\">\n",
       "      <th></th>\n",
       "      <th>SalaryBand</th>\n",
       "      <th>Attrition</th>\n",
       "    </tr>\n",
       "  </thead>\n",
       "  <tbody>\n",
       "    <tr>\n",
       "      <th>0</th>\n",
       "      <td>Low</td>\n",
       "      <td>0.292683</td>\n",
       "    </tr>\n",
       "    <tr>\n",
       "      <th>1</th>\n",
       "      <td>Medium</td>\n",
       "      <td>0.142077</td>\n",
       "    </tr>\n",
       "    <tr>\n",
       "      <th>2</th>\n",
       "      <td>High</td>\n",
       "      <td>0.106267</td>\n",
       "    </tr>\n",
       "    <tr>\n",
       "      <th>3</th>\n",
       "      <td>Very High</td>\n",
       "      <td>0.103261</td>\n",
       "    </tr>\n",
       "  </tbody>\n",
       "</table>\n",
       "</div>"
      ],
      "text/plain": [
       "  SalaryBand  Attrition\n",
       "0        Low   0.292683\n",
       "1     Medium   0.142077\n",
       "2       High   0.106267\n",
       "3  Very High   0.103261"
      ]
     },
     "execution_count": 77,
     "metadata": {},
     "output_type": "execute_result"
    }
   ],
   "source": [
    "# Group by SalaryBand and calculate mean attrition\n",
    "salary_attrition = df.groupby(\"SalaryBand\")[\"Attrition\"].mean().reset_index()\n",
    "salary_attrition"
   ]
  },
  {
   "cell_type": "code",
   "execution_count": 76,
   "id": "85c025d1-9cb2-4800-b8c0-b0b702fd0cd0",
   "metadata": {},
   "outputs": [
    {
     "data": {
      "image/png": "[encoded data removed]",
      "text/plain": [
       "<Figure size 800x500 with 1 Axes>"
      ]
     },
     "metadata": {},
     "output_type": "display_data"
    }
   ],
   "source": [
    "# Barplot of attrition by salary band\n",
    "plt.figure(figsize=(8, 5))\n",
    "sns.barplot(data=salary_attrition, x=\"SalaryBand\", y=\"Attrition\", palette=\"coolwarm\")\n",
    "plt.title(\"Attrition Rate by Salary Band\")\n",
    "plt.xlabel(\"Salary Band\")\n",
    "plt.ylabel(\"Attrition Rate\")\n",
    "plt.ylim(0, 0.4)\n",
    "plt.show()"
   ]
  },
  {
   "cell_type": "markdown",
   "id": "9a93f429-a1b8-4a27-a3c9-326b044bc01f",
   "metadata": {},
   "source": [
    "### 📌 Insights\n",
    "\n",
    "💼 Job Role\n",
    "Employees in the Sales Representative role are most at risk, with an attrition rate of 39.8%, followed by Laboratory Technicians and Human Resources staff. In contrast, Research Directors and Managers show the lowest attrition rates.\n",
    "This suggests that employees in frontline or support roles may be more prone to leaving than those in senior or specialized positions.\n",
    "\n",
    "👥 Age Group\n",
    "The 18–25 age group is at the highest risk, with an attrition rate of 35.8%. Risk significantly declines in older age brackets, with the 36–45 group being the least likely to leave.\n",
    "Younger employees may be more likely to seek new opportunities or be less settled in their roles.\n",
    "\n",
    "💰 Salary Band\n",
    "Attrition is highest in the Low salary band (29.3%) and steadily decreases across higher salary levels, dropping to just 10.3% in the Very High band.\n",
    "Lower-paid employees are more at risk of attrition, likely due to financial dissatisfaction or better offers elsewhere."
   ]
  },
  {
   "cell_type": "code",
   "execution_count": null,
   "id": "4406b00d-db67-406f-b9e9-54815955a314",
   "metadata": {},
   "outputs": [],
   "source": []
  }
 ],
 "metadata": {
  "kernelspec": {
   "display_name": "Python 3 (ipykernel)",
   "language": "python",
   "name": "python3"
  },
  "language_info": {
   "codemirror_mode": {
    "name": "ipython",
    "version": 3
   },
   "file_extension": ".py",
   "mimetype": "text/x-python",
   "name": "python",
   "nbconvert_exporter": "python",
   "pygments_lexer": "ipython3",
   "version": "3.9.21"
  }
 },
 "nbformat": 4,
 "nbformat_minor": 5
}
